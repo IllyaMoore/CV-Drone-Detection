{
 "cells": [
  {
   "cell_type": "code",
   "execution_count": 128,
   "id": "0a4f74e2",
   "metadata": {},
   "outputs": [],
   "source": [
    "import pandas as pd \n",
    "import os\n",
    "from os import listdir\n",
    "import matplotlib.pyplot as plt\n",
    "from PIL import Image\n",
    "import cv2\n",
    "import numpy as np"
   ]
  },
  {
   "cell_type": "code",
   "execution_count": 6,
   "id": "2cfcbf46",
   "metadata": {},
   "outputs": [
    {
     "name": "stderr",
     "output_type": "stream",
     "text": [
      "<>:1: SyntaxWarning: invalid escape sequence '\\C'\n",
      "<>:1: SyntaxWarning: invalid escape sequence '\\C'\n",
      "C:\\Users\\illya\\AppData\\Local\\Temp\\ipykernel_21480\\296609755.py:1: SyntaxWarning: invalid escape sequence '\\C'\n",
      "  DIR = 'B:\\CV Drone Detection\\drone detection via CV.v1i.createml\\\\train'\n"
     ]
    }
   ],
   "source": [
    "DIR = 'B:\\CV Drone Detection\\drone detection via CV.v1i.createml\\\\train'"
   ]
  },
  {
   "cell_type": "code",
   "execution_count": 67,
   "id": "97400d87",
   "metadata": {},
   "outputs": [],
   "source": [
    "def lensize_img(path):\n",
    "    img_list = []\n",
    "    img_res = {}\n",
    "    for img in os.listdir(path):\n",
    "        if img.lower().endswith((\".png\", \".jpg\", \".jpeg\")):\n",
    "            img_path = os.path.join(path, img)\n",
    "            img_list.append(img)\n",
    "            if Image.open(img_path).size in img_res:\n",
    "                img_res[Image.open(img_path).size] += 1 \n",
    "            else: \n",
    "                img_res[Image.open(img_path).size] = 1\n",
    "\n",
    "    return len(img_list), img_res\n",
    "\n",
    "imgs_size, img_res = lensize_img(DIR)"
   ]
  },
  {
   "cell_type": "code",
   "execution_count": null,
   "id": "3d3c154f",
   "metadata": {},
   "outputs": [
    {
     "name": "stdout",
     "output_type": "stream",
     "text": [
      "8740\n",
      "{(640, 640): 1530, (640, 284): 3, (360, 640): 160, (640, 426): 94, (640, 358): 28, (640, 228): 2, (640, 421): 3, (640, 381): 7, (640, 573): 1, (640, 480): 776, (640, 425): 48, (640, 360): 4699, (640, 427): 18, (640, 456): 2, (640, 428): 2, (640, 355): 3, (640, 479): 38, (640, 384): 12, (601, 640): 1, (640, 512): 8, (640, 333): 2, (640, 248): 1, (640, 362): 61, (640, 332): 2, (640, 320): 20, (492, 640): 1, (640, 393): 4, (640, 523): 2, (640, 380): 3, (640, 637): 2, (640, 471): 8, (640, 439): 4, (640, 186): 1, (398, 640): 3, (640, 366): 5, (640, 631): 5, (479, 640): 9, (640, 453): 4, (640, 560): 1, (640, 385): 2, (640, 458): 5, (631, 640): 1, (640, 454): 7, (640, 625): 2, (640, 567): 2, (640, 582): 3, (457, 640): 2, (640, 535): 1, (598, 640): 5, (640, 598): 2, (640, 252): 2, (358, 640): 2, (640, 620): 3, (640, 585): 1, (640, 361): 10, (640, 415): 9, (640, 614): 2, (640, 496): 1, (393, 640): 1, (501, 640): 11, (620, 640): 2, (640, 424): 12, (425, 640): 1, (567, 640): 2, (640, 443): 1, (542, 640): 1, (640, 328): 2, (640, 359): 29, (640, 199): 1, (640, 429): 6, (640, 363): 251, (640, 266): 2, (500, 640): 4, (640, 575): 2, (640, 593): 2, (640, 547): 1, (640, 612): 2, (596, 640): 2, (640, 205): 2, (640, 369): 19, (640, 504): 1, (512, 640): 172, (639, 340): 3, (640, 403): 4, (450, 640): 1, (640, 371): 1, (640, 310): 2, (640, 160): 1, (640, 292): 2, (640, 280): 3, (640, 272): 4, (640, 213): 1, (640, 317): 1, (640, 400): 10, (640, 268): 1, (640, 416): 5, (640, 432): 2, (639, 354): 1, (640, 254): 2, (433, 640): 9, (640, 538): 1, (426, 640): 3, (582, 640): 1, (640, 295): 1, (546, 640): 2, (640, 438): 3, (640, 251): 5, (640, 250): 1, (640, 524): 4, (640, 395): 2, (640, 336): 9, (640, 313): 3, (640, 334): 5, (640, 238): 2, (640, 459): 48, (534, 640): 5, (516, 640): 1, (640, 615): 1, (640, 404): 2, (606, 640): 2, (640, 548): 1, (640, 301): 3, (640, 324): 2, (640, 414): 1, (640, 528): 1, (640, 302): 2, (640, 539): 1, (581, 640): 1, (640, 288): 1, (639, 333): 1, (640, 420): 5, (640, 465): 1, (640, 397): 1, (640, 353): 4, (640, 389): 4, (640, 493): 6, (640, 638): 1, (640, 490): 1, (639, 359): 2, (640, 357): 2, (640, 300): 4, (640, 347): 1, (640, 379): 2, (640, 468): 2, (640, 329): 1, (640, 466): 1, (640, 423): 4, (640, 391): 2, (640, 335): 2, (640, 365): 4, (640, 417): 1, (636, 640): 2, (640, 388): 1, (640, 382): 1, (639, 482): 1, (640, 487): 1, (640, 325): 1, (640, 394): 1, (639, 639): 1, (640, 342): 4, (640, 274): 2, (640, 467): 4, (640, 224): 1, (640, 326): 3, (640, 315): 1, (633, 640): 1, (640, 311): 2, (640, 526): 2, (640, 276): 1, (640, 364): 6, (640, 346): 3, (640, 476): 2, (640, 494): 3, (640, 316): 2, (640, 534): 1, (640, 472): 2, (640, 485): 1, (640, 561): 1, (640, 442): 1, (640, 595): 2, (638, 640): 2, (640, 533): 2, (480, 640): 81, (640, 474): 2, (640, 291): 3, (551, 640): 2, (640, 368): 1, (310, 640): 2, (640, 260): 4, (446, 640): 1, (640, 505): 1, (640, 341): 1, (640, 408): 26, (640, 517): 2, (640, 430): 1, (640, 502): 1, (640, 350): 2, (640, 482): 1, (640, 497): 4, (640, 581): 2, (640, 463): 1, (640, 549): 2, (640, 165): 1, (640, 153): 1, (640, 327): 1, (640, 214): 1, (640, 440): 1, (640, 578): 2, (640, 413): 1, (556, 640): 2, (640, 123): 1, (640, 244): 1, (640, 377): 3, (640, 460): 8, (640, 609): 2, (397, 640): 3, (640, 457): 4, (640, 481): 80, (481, 640): 38, (640, 603): 1, (445, 640): 3, (640, 455): 1, (640, 299): 1, (640, 470): 1, (640, 500): 1, (640, 409): 1}\n"
     ]
    }
   ],
   "source": [
    "print(imgs_size)\n",
    "print(img_res)"
   ]
  },
  {
   "cell_type": "code",
   "execution_count": 83,
   "id": "775f5018",
   "metadata": {},
   "outputs": [
    {
     "data": {
      "text/plain": [
       "4699"
      ]
     },
     "execution_count": 83,
     "metadata": {},
     "output_type": "execute_result"
    }
   ],
   "source": [
    "sorted(list(img_res.values()))[-1]"
   ]
  },
  {
   "cell_type": "code",
   "execution_count": 102,
   "id": "b46f2776",
   "metadata": {},
   "outputs": [
    {
     "data": {
      "text/plain": [
       "[640, 360]"
      ]
     },
     "execution_count": 102,
     "metadata": {},
     "output_type": "execute_result"
    }
   ],
   "source": [
    "lovely_dime = (list(img_res.keys())[list(img_res.values()).index(4699)]) \n",
    "lovely_dime = list(lovely_dime)\n",
    "lovely_dime"
   ]
  },
  {
   "cell_type": "code",
   "execution_count": 109,
   "id": "3e8930dc",
   "metadata": {},
   "outputs": [
    {
     "data": {
      "text/plain": [
       "'W: 640  H: 360'"
      ]
     },
     "execution_count": 109,
     "metadata": {},
     "output_type": "execute_result"
    }
   ],
   "source": [
    "f\"W: {lovely_dime[0]}  H: {lovely_dime[1]}\""
   ]
  },
  {
   "cell_type": "code",
   "execution_count": 129,
   "id": "b1ceb44d",
   "metadata": {},
   "outputs": [],
   "source": [
    "def scaler(in_dir, out_dir, lovely_dime):\n",
    "    os.makedirs(out_dir, exist_ok=True)\n",
    "    processed = []\n",
    "    \n",
    "    for img in os.listdir(in_dir):\n",
    "        if img.lower().endswith((\".png\", \".jpg\", \".jpeg\")):\n",
    "            img_path = os.path.join(in_dir, img)\n",
    "            image = cv2.imread(img_path)\n",
    "            \n",
    "            \n",
    "            height, width = image.shape[:2]\n",
    "            \n",
    "            scale_factor_W, scale_factor_H = lovely_dime[0], lovely_dime[1]\n",
    "            scale = min(scale_factor_W / width, scale_factor_H / height)\n",
    "\n",
    "            new_width = int(width * scale)\n",
    "            new_height = int(height * scale)    \n",
    "            \n",
    "            scaled_image = cv2.resize(src= image, \n",
    "                                    dsize =(new_width, new_height), \n",
    "                                    interpolation=cv2.INTER_AREA)\n",
    "            \n",
    "            canvas = np.zeros((scale_factor_H, scale_factor_W, 3), dtype=np.uint8)\n",
    "\n",
    "            x_offset = (scale_factor_W - new_width) // 2\n",
    "            y_offset = (scale_factor_H - new_height) // 2\n",
    "            canvas[y_offset:y_offset+new_height, x_offset:x_offset+new_width] = scaled_image\n",
    "            \n",
    "            save_path = os.path.join(out_dir, img)\n",
    "            cv2.imwrite(save_path, canvas)\n",
    "            processed.append(save_path)\n",
    "    return processed"
   ]
  },
  {
   "cell_type": "code",
   "execution_count": 130,
   "id": "74750d00",
   "metadata": {},
   "outputs": [
    {
     "name": "stderr",
     "output_type": "stream",
     "text": [
      "<>:1: SyntaxWarning: invalid escape sequence '\\C'\n",
      "<>:1: SyntaxWarning: invalid escape sequence '\\C'\n",
      "C:\\Users\\illya\\AppData\\Local\\Temp\\ipykernel_21480\\3329082277.py:1: SyntaxWarning: invalid escape sequence '\\C'\n",
      "  scaled_test_dir = \"B:\\CV Drone Detection\\scaled\\\\test\"\n"
     ]
    }
   ],
   "source": [
    "scaled_test_dir = \"B:\\CV Drone Detection\\scaled\\\\test\"\n",
    "processed = scaler(DIR, scaled_test_dir, lovely_dime)"
   ]
  },
  {
   "cell_type": "code",
   "execution_count": 131,
   "id": "f49cbcb3",
   "metadata": {},
   "outputs": [],
   "source": [
    "imgs_size, img_res = lensize_img(scaled_test_dir)"
   ]
  },
  {
   "cell_type": "code",
   "execution_count": 132,
   "id": "92275409",
   "metadata": {},
   "outputs": [
    {
     "name": "stdout",
     "output_type": "stream",
     "text": [
      "8740\n",
      "{(640, 360): 8740}\n"
     ]
    }
   ],
   "source": [
    "print(imgs_size)\n",
    "print(img_res)"
   ]
  }
 ],
 "metadata": {
  "kernelspec": {
   "display_name": ".venv (3.13.0)",
   "language": "python",
   "name": "python3"
  },
  "language_info": {
   "codemirror_mode": {
    "name": "ipython",
    "version": 3
   },
   "file_extension": ".py",
   "mimetype": "text/x-python",
   "name": "python",
   "nbconvert_exporter": "python",
   "pygments_lexer": "ipython3",
   "version": "3.13.0"
  }
 },
 "nbformat": 4,
 "nbformat_minor": 5
}
