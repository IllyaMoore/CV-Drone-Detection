{
 "cells": [
  {
   "cell_type": "code",
   "execution_count": 26,
   "id": "a364bbfe",
   "metadata": {},
   "outputs": [],
   "source": [
    "import pandas as pd \n",
    "import os\n",
    "from os import listdir\n",
    "import matplotlib.pyplot as plt\n",
    "from PIL import Image\n",
    "import cv2\n",
    "import torch\n",
    "import torchvision.transforms as transforms\n",
    "import numpy as np\n",
    "import torchvision\n",
    "import torchvision\n",
    "from PIL import Image\n",
    "import os\n",
    "from tqdm import tqdm\n",
    "\n",
    "scaled_train_dir = \"B:\\\\CV Drone Detection\\\\scaled\\\\train\\\\drone\"\n",
    "scaled_test_dir = \"B:\\\\CV Drone Detection\\\\scaled\\\\test\\\\drone\"\n",
    "scaled_valid_dir = \"B:\\\\CV Drone Detection\\\\scaled\\\\valid\\\\drone\""
   ]
  },
  {
   "cell_type": "code",
   "execution_count": 28,
   "id": "487db220",
   "metadata": {},
   "outputs": [],
   "source": [
    "def lensize_img(path):\n",
    "    img_list = []\n",
    "    img_res = {}\n",
    "    for img in os.listdir(path):\n",
    "        if img.lower().endswith((\".png\", \".jpg\", \".jpeg\")):\n",
    "            img_path = os.path.join(path, img)\n",
    "            img_list.append(img)\n",
    "            if Image.open(img_path).size in img_res:\n",
    "                img_res[Image.open(img_path).size] += 1 \n",
    "            else: \n",
    "                img_res[Image.open(img_path).size] = 1\n",
    "\n",
    "    return len(img_list), img_res"
   ]
  },
  {
   "cell_type": "code",
   "execution_count": 29,
   "id": "d99e1384",
   "metadata": {},
   "outputs": [],
   "source": [
    "birds_dir = \"B:\\\\CV Drone Detection\\\\analysis_scaling\\\\cifar_filtered\\\\bird\"\n",
    "plain_dir = \"B:\\\\CV Drone Detection\\\\analysis_scaling\\\\cifar_filtered\\\\airplane\""
   ]
  },
  {
   "cell_type": "code",
   "execution_count": 31,
   "id": "0ba569ba",
   "metadata": {},
   "outputs": [
    {
     "data": {
      "text/plain": [
       "{(32, 32): 6000}"
      ]
     },
     "execution_count": 31,
     "metadata": {},
     "output_type": "execute_result"
    }
   ],
   "source": [
    "imgs_size_b, img_res = lensize_img(birds_dir)\n",
    "img_res\n",
    "imgs_size_p, img_res = lensize_img(plain_dir)\n",
    "img_res"
   ]
  },
  {
   "cell_type": "code",
   "execution_count": 43,
   "id": "01d90354",
   "metadata": {},
   "outputs": [
    {
     "data": {
      "text/plain": [
       "12000"
      ]
     },
     "execution_count": 43,
     "metadata": {},
     "output_type": "execute_result"
    }
   ],
   "source": [
    "false_data_size = imgs_size_b + imgs_size_p\n",
    "false_data_size"
   ]
  },
  {
   "cell_type": "code",
   "execution_count": 48,
   "id": "c4cc761a",
   "metadata": {},
   "outputs": [
    {
     "data": {
      "text/plain": [
       "(8400, 2400, 1200, 12000)"
      ]
     },
     "execution_count": 48,
     "metadata": {},
     "output_type": "execute_result"
    }
   ],
   "source": [
    "train_chunk = int(false_data_size * 0.7)\n",
    "val_chunk = int(false_data_size * 0.2)\n",
    "test_chunk = false_data_size - (train_chunk + val_chunk)\n",
    "\n",
    "train_chunk, val_chunk, test_chunk, train_chunk + val_chunk + test_chunk"
   ]
  },
  {
   "cell_type": "code",
   "execution_count": 20,
   "id": "ecae3b5b",
   "metadata": {},
   "outputs": [],
   "source": [
    "lovely_dime = [128, 128]"
   ]
  },
  {
   "cell_type": "code",
   "execution_count": null,
   "id": "e0875ff6",
   "metadata": {},
   "outputs": [],
   "source": [
    "def scaler(in_dir, out_dir, lovely_dime=lovely_dime):\n",
    "    os.makedirs(out_dir, exist_ok=True)\n",
    "    processed = []\n",
    "    \n",
    "    for img in os.listdir(in_dir):\n",
    "        if img.lower().endswith((\".png\", \".jpg\", \".jpeg\")):\n",
    "            img_path = os.path.join(in_dir, img)\n",
    "            image = cv2.imread(img_path)\n",
    "            \n",
    "            \n",
    "            height, width = image.shape[:2]\n",
    "            \n",
    "            scale_factor_W, scale_factor_H = lovely_dime[0], lovely_dime[1]\n",
    "            scale = min(scale_factor_W / width, scale_factor_H / height)\n",
    "\n",
    "            new_width = int(width * scale)\n",
    "            new_height = int(height * scale)    \n",
    "            \n",
    "            scaled_image = cv2.resize(src= image, \n",
    "                                    dsize =(new_width, new_height), \n",
    "                                    interpolation=cv2.INTER_CUBIC)\n",
    "            \n",
    "            canvas = np.zeros((scale_factor_H, scale_factor_W, 3), dtype=np.uint8)\n",
    "\n",
    "            x_offset = (scale_factor_W - new_width) // 2\n",
    "            y_offset = (scale_factor_H - new_height) // 2\n",
    "            canvas[y_offset:y_offset+new_height, x_offset:x_offset+new_width] = scaled_image\n",
    "            \n",
    "            save_path = os.path.join(out_dir, img)\n",
    "            cv2.imwrite(save_path, canvas)\n",
    "            processed.append(save_path)\n",
    "    return processed"
   ]
  },
  {
   "cell_type": "code",
   "execution_count": 22,
   "id": "25c545dc",
   "metadata": {},
   "outputs": [],
   "source": [
    "out_dir = \"B:\\\\CV Drone Detection\\\\scaled\\\\test\\\\notAdrone\""
   ]
  },
  {
   "cell_type": "code",
   "execution_count": 25,
   "id": "ba6f2648",
   "metadata": {},
   "outputs": [],
   "source": [
    "processed = scaler(in_dir=plain_dir, out_dir=out_dir)"
   ]
  },
  {
   "cell_type": "code",
   "execution_count": null,
   "id": "9de01e4a",
   "metadata": {},
   "outputs": [],
   "source": []
  }
 ],
 "metadata": {
  "kernelspec": {
   "display_name": ".venv (3.13.0)",
   "language": "python",
   "name": "python3"
  },
  "language_info": {
   "codemirror_mode": {
    "name": "ipython",
    "version": 3
   },
   "file_extension": ".py",
   "mimetype": "text/x-python",
   "name": "python",
   "nbconvert_exporter": "python",
   "pygments_lexer": "ipython3",
   "version": "3.13.0"
  }
 },
 "nbformat": 4,
 "nbformat_minor": 5
}
