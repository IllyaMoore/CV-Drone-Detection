{
 "cells": [
  {
   "cell_type": "code",
   "execution_count": 8,
   "id": "a364bbfe",
   "metadata": {},
   "outputs": [],
   "source": [
    "import pandas as pd \n",
    "import os\n",
    "from os import listdir\n",
    "import matplotlib.pyplot as plt\n",
    "from PIL import Image\n",
    "import cv2\n",
    "import torch\n",
    "import torchvision.transforms as transforms\n",
    "import numpy as np\n",
    "import torchvision\n",
    "import torchvision\n",
    "from PIL import Image\n",
    "import os\n",
    "from tqdm import tqdm\n",
    "import shutil\n",
    "import random\n",
    "\n",
    "scaled_train_dir = \"B:\\\\CV Drone Detection\\\\scaled\\\\train\\\\drone\"\n",
    "scaled_test_dir = \"B:\\\\CV Drone Detection\\\\scaled\\\\test\\\\drone\"\n",
    "scaled_valid_dir = \"B:\\\\CV Drone Detection\\\\scaled\\\\valid\\\\drone\""
   ]
  },
  {
   "cell_type": "code",
   "execution_count": 2,
   "id": "487db220",
   "metadata": {},
   "outputs": [],
   "source": [
    "def lensize_img(path):\n",
    "    img_list = []\n",
    "    img_res = {}\n",
    "    for img in os.listdir(path):\n",
    "        if img.lower().endswith((\".png\", \".jpg\", \".jpeg\")):\n",
    "            img_path = os.path.join(path, img)\n",
    "            img_list.append(img)\n",
    "            if Image.open(img_path).size in img_res:\n",
    "                img_res[Image.open(img_path).size] += 1 \n",
    "            else: \n",
    "                img_res[Image.open(img_path).size] = 1\n",
    "\n",
    "    return len(img_list), img_res"
   ]
  },
  {
   "cell_type": "code",
   "execution_count": 3,
   "id": "d99e1384",
   "metadata": {},
   "outputs": [],
   "source": [
    "birds_dir = \"B:\\\\CV Drone Detection\\\\analysis_scaling\\\\cifar_filtered\\\\bird\"\n",
    "plain_dir = \"B:\\\\CV Drone Detection\\\\analysis_scaling\\\\cifar_filtered\\\\airplane\""
   ]
  },
  {
   "cell_type": "code",
   "execution_count": 12,
   "id": "a991029d",
   "metadata": {},
   "outputs": [
    {
     "name": "stderr",
     "output_type": "stream",
     "text": [
      "<>:16: SyntaxWarning: invalid escape sequence '\\C'\n",
      "<>:16: SyntaxWarning: invalid escape sequence '\\C'\n",
      "C:\\Users\\illya\\AppData\\Local\\Temp\\ipykernel_3888\\1515694706.py:16: SyntaxWarning: invalid escape sequence '\\C'\n",
      "  merge_and_shuffle(birds_dir, plain_dir, \"B:\\CV Drone Detection\\\\analysis_scaling\\\\cifar_filtered\\\\notAdrone\")\n"
     ]
    }
   ],
   "source": [
    "\n",
    "def merge_and_shuffle(dir1, dir2, out_dir):\n",
    "    os.makedirs(out_dir, exist_ok=True)\n",
    "\n",
    "    imgs1 = [os.path.join(dir1, f) for f in os.listdir(dir1) if f.lower().endswith((\".png\", \".jpg\", \".jpeg\"))]\n",
    "    imgs2 = [os.path.join(dir2, f) for f in os.listdir(dir2) if f.lower().endswith((\".png\", \".jpg\", \".jpeg\"))]\n",
    "\n",
    "    all_imgs = imgs1 + imgs2\n",
    "    \n",
    "    random.shuffle(all_imgs)\n",
    "\n",
    "    for i, img_path in enumerate(all_imgs):\n",
    "        ext = os.path.splitext(img_path)[1]\n",
    "        new_name = f\"img_{i}{ext}\"\n",
    "        shutil.copy(img_path, os.path.join(out_dir, new_name))\n",
    "\n",
    "merge_and_shuffle(birds_dir, plain_dir, \"B:\\CV Drone Detection\\\\analysis_scaling\\\\cifar_filtered\\\\notAdrone\")\n"
   ]
  },
  {
   "cell_type": "code",
   "execution_count": 13,
   "id": "0ba569ba",
   "metadata": {},
   "outputs": [
    {
     "name": "stderr",
     "output_type": "stream",
     "text": [
      "<>:1: SyntaxWarning: invalid escape sequence '\\C'\n",
      "<>:1: SyntaxWarning: invalid escape sequence '\\C'\n",
      "C:\\Users\\illya\\AppData\\Local\\Temp\\ipykernel_3888\\1240015938.py:1: SyntaxWarning: invalid escape sequence '\\C'\n",
      "  imgs_size_b, img_res = lensize_img(\"B:\\CV Drone Detection\\\\analysis_scaling\\\\cifar_filtered\\\\notAdrone\")\n"
     ]
    },
    {
     "data": {
      "text/plain": [
       "{(32, 32): 12000}"
      ]
     },
     "execution_count": 13,
     "metadata": {},
     "output_type": "execute_result"
    }
   ],
   "source": [
    "imgs_size_b, img_res = lensize_img(\"B:\\CV Drone Detection\\\\analysis_scaling\\\\cifar_filtered\\\\notAdrone\")\n",
    "img_res\n"
   ]
  },
  {
   "cell_type": "code",
   "execution_count": 17,
   "id": "ecae3b5b",
   "metadata": {},
   "outputs": [],
   "source": [
    "lovely_dime = [128, 128]"
   ]
  },
  {
   "cell_type": "code",
   "execution_count": 22,
   "id": "2cad828d",
   "metadata": {},
   "outputs": [],
   "source": [
    "in_dir = \"B:\\\\CV Drone Detection\\\\analysis_scaling\\\\cifar_filtered\\\\notAdrone\""
   ]
  },
  {
   "cell_type": "code",
   "execution_count": 23,
   "id": "db86b0cd",
   "metadata": {},
   "outputs": [],
   "source": [
    "validation = 'B:\\\\CV Drone Detection\\\\scaled\\\\valid\\\\notAdrone'\n",
    "train = 'B:\\\\CV Drone Detection\\\\scaled\\\\train\\\\notAdrone'\n",
    "test = 'B:\\\\CV Drone Detection\\\\scaled\\\\test\\\\notAdrone'\n",
    "out_dirs = [test, validation, train]"
   ]
  },
  {
   "cell_type": "code",
   "execution_count": 24,
   "id": "e0875ff6",
   "metadata": {},
   "outputs": [],
   "source": [
    "def scaler(in_dir, out_dirs, lovely_dime):\n",
    "    for d in out_dirs:\n",
    "        os.makedirs(d, exist_ok=True)\n",
    "\n",
    "    counter = 0 \n",
    "    processed = []\n",
    "\n",
    "    for img in os.listdir(in_dir):\n",
    "        if img.lower().endswith((\".png\", \".jpg\", \".jpeg\")):\n",
    "            img_path = os.path.join(in_dir, img)\n",
    "            image = cv2.imread(img_path)\n",
    "\n",
    "            height, width = image.shape[:2]\n",
    "            scale_factor_W, scale_factor_H = lovely_dime\n",
    "            scale = min(scale_factor_W / width, scale_factor_H / height)\n",
    "\n",
    "            new_width = int(width * scale)\n",
    "            new_height = int(height * scale)\n",
    "\n",
    "            scaled_image = cv2.resize(\n",
    "                                    src=image,\n",
    "                                    dsize=(new_width, new_height),\n",
    "                                    interpolation=cv2.INTER_CUBIC\n",
    "                                )\n",
    "\n",
    "            canvas = np.zeros((scale_factor_H, scale_factor_W, 3), dtype=np.uint8)\n",
    "            x_offset = (scale_factor_W - new_width) // 2\n",
    "            y_offset = (scale_factor_H - new_height) // 2\n",
    "            canvas[y_offset:y_offset+new_height, x_offset:x_offset+new_width] = scaled_image\n",
    "\n",
    "            if counter < 1200:\n",
    "                save_dir = out_dirs[0]\n",
    "            elif counter < 3600:\n",
    "                save_dir = out_dirs[1]\n",
    "            else:\n",
    "                save_dir = out_dirs[2]\n",
    "\n",
    "            save_path = os.path.join(save_dir, img)\n",
    "            cv2.imwrite(save_path, canvas)\n",
    "            processed.append(save_path)\n",
    "            counter += 1\n",
    "\n",
    "    return processed\n"
   ]
  },
  {
   "cell_type": "code",
   "execution_count": 25,
   "id": "ba6f2648",
   "metadata": {},
   "outputs": [],
   "source": [
    "processed = scaler(in_dir=in_dir, out_dirs=out_dirs, lovely_dime=lovely_dime)"
   ]
  },
  {
   "cell_type": "code",
   "execution_count": 28,
   "id": "9de01e4a",
   "metadata": {},
   "outputs": [
    {
     "name": "stdout",
     "output_type": "stream",
     "text": [
      "test {(128, 128): 1200}\n",
      "train {(128, 128): 8400}\n",
      "valid {(128, 128): 2400}\n"
     ]
    }
   ],
   "source": [
    "imgs_size_b, img_res = lensize_img(\"B:\\\\CV Drone Detection\\\\scaled\\\\test\\\\notAdrone\")\n",
    "print(f\"test {img_res}\")\n",
    "imgs_size_b, img_res = lensize_img(\"B:\\\\CV Drone Detection\\\\scaled\\\\train\\\\notAdrone\")\n",
    "print(f\"train {img_res}\")\n",
    "imgs_size_b, img_res = lensize_img(\"B:\\\\CV Drone Detection\\\\scaled\\\\valid\\\\notAdrone\")\n",
    "print(f\"valid {img_res}\")"
   ]
  }
 ],
 "metadata": {
  "kernelspec": {
   "display_name": ".venv (3.13.0)",
   "language": "python",
   "name": "python3"
  },
  "language_info": {
   "codemirror_mode": {
    "name": "ipython",
    "version": 3
   },
   "file_extension": ".py",
   "mimetype": "text/x-python",
   "name": "python",
   "nbconvert_exporter": "python",
   "pygments_lexer": "ipython3",
   "version": "3.13.0"
  }
 },
 "nbformat": 4,
 "nbformat_minor": 5
}
