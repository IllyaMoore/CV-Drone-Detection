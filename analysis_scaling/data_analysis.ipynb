{
 "cells": [
  {
   "cell_type": "code",
   "execution_count": 6,
   "id": "0a4f74e2",
   "metadata": {},
   "outputs": [],
   "source": [
    "import pandas as pd \n",
    "import os\n",
    "from os import listdir\n",
    "import matplotlib.pyplot as plt\n",
    "from PIL import Image\n",
    "import cv2\n",
    "import numpy as np"
   ]
  },
  {
   "cell_type": "code",
   "execution_count": 7,
   "id": "2cfcbf46",
   "metadata": {},
   "outputs": [],
   "source": [
    "DIR_TRAIN = 'B:\\\\CV Drone Detection\\\\drone detection via CV.v1i.createml\\\\train'\n",
    "DIR_TEST = 'B:\\\\CV Drone Detection\\\\drone detection via CV.v1i.createml\\\\test'\n",
    "DIR_VALID = 'B:\\\\CV Drone Detection\\\\drone detection via CV.v1i.createml\\\\valid'"
   ]
  },
  {
   "cell_type": "code",
   "execution_count": 8,
   "id": "97400d87",
   "metadata": {},
   "outputs": [],
   "source": [
    "def lensize_img(path):\n",
    "    img_list = []\n",
    "    img_res = {}\n",
    "    for img in os.listdir(path):\n",
    "        if img.lower().endswith((\".png\", \".jpg\", \".jpeg\")):\n",
    "            img_path = os.path.join(path, img)\n",
    "            img_list.append(img)\n",
    "            if Image.open(img_path).size in img_res:\n",
    "                img_res[Image.open(img_path).size] += 1 \n",
    "            else: \n",
    "                img_res[Image.open(img_path).size] = 1\n",
    "\n",
    "    return len(img_list), img_res"
   ]
  },
  {
   "cell_type": "code",
   "execution_count": 26,
   "id": "3d3c154f",
   "metadata": {},
   "outputs": [
    {
     "name": "stdout",
     "output_type": "stream",
     "text": [
      "Train samples: 8740\n",
      "Most common resulution:(640, 360) samples: 4699\n",
      "Test samples: 339\n",
      "Most common resulution:(640, 360) samples: 183\n",
      "Validation samples: 721\n",
      "Most common resulution:(640, 360) samples: 402\n"
     ]
    }
   ],
   "source": [
    "imgs_size, img_res = lensize_img(DIR_TRAIN)\n",
    "print(f\"Train samples: {imgs_size}\")\n",
    "print(f\"Most common resulution:{(list(img_res.keys())[list(img_res.values()).index(sorted(list(img_res.values()))[-1])])} samples: {sorted(list(img_res.values()))[-1]}\")\n",
    "imgs_size, img_res = lensize_img(DIR_TEST)\n",
    "print(f\"Test samples: {imgs_size}\")\n",
    "print(f\"Most common resulution:{(list(img_res.keys())[list(img_res.values()).index(sorted(list(img_res.values()))[-1])])} samples: {sorted(list(img_res.values()))[-1]}\")\n",
    "imgs_size, img_res = lensize_img(DIR_VALID)\n",
    "print(f\"Validation samples: {imgs_size}\")\n",
    "print(f\"Most common resulution:{(list(img_res.keys())[list(img_res.values()).index(sorted(list(img_res.values()))[-1])])} samples: {sorted(list(img_res.values()))[-1]}\")"
   ]
  },
  {
   "cell_type": "code",
   "execution_count": 15,
   "id": "b46f2776",
   "metadata": {},
   "outputs": [],
   "source": [
    "lovely_dime = [640, 360]"
   ]
  },
  {
   "cell_type": "code",
   "execution_count": 16,
   "id": "3e8930dc",
   "metadata": {},
   "outputs": [
    {
     "data": {
      "text/plain": [
       "'W: 640  H: 360'"
      ]
     },
     "execution_count": 16,
     "metadata": {},
     "output_type": "execute_result"
    }
   ],
   "source": [
    "f\"W: {lovely_dime[0]}  H: {lovely_dime[1]}\""
   ]
  },
  {
   "cell_type": "code",
   "execution_count": 20,
   "id": "b1ceb44d",
   "metadata": {},
   "outputs": [],
   "source": [
    "def scaler(in_dir, out_dir, lovely_dime):\n",
    "    os.makedirs(out_dir, exist_ok=True)\n",
    "    processed = []\n",
    "    \n",
    "    for img in os.listdir(in_dir):\n",
    "        if img.lower().endswith((\".png\", \".jpg\", \".jpeg\")):\n",
    "            img_path = os.path.join(in_dir, img)\n",
    "            image = cv2.imread(img_path)\n",
    "            \n",
    "            \n",
    "            height, width = image.shape[:2]\n",
    "            \n",
    "            scale_factor_W, scale_factor_H = lovely_dime[0], lovely_dime[1]\n",
    "            scale = min(scale_factor_W / width, scale_factor_H / height)\n",
    "\n",
    "            new_width = int(width * scale)\n",
    "            new_height = int(height * scale)    \n",
    "            \n",
    "            scaled_image = cv2.resize(src= image, \n",
    "                                    dsize =(new_width, new_height), \n",
    "                                    interpolation=cv2.INTER_AREA)\n",
    "            \n",
    "            canvas = np.zeros((scale_factor_H, scale_factor_W, 3), dtype=np.uint8)\n",
    "\n",
    "            x_offset = (scale_factor_W - new_width) // 2\n",
    "            y_offset = (scale_factor_H - new_height) // 2\n",
    "            canvas[y_offset:y_offset+new_height, x_offset:x_offset+new_width] = scaled_image\n",
    "            \n",
    "            save_path = os.path.join(out_dir, img)\n",
    "            cv2.imwrite(save_path, canvas)\n",
    "            processed.append(save_path)\n",
    "    return processed"
   ]
  },
  {
   "cell_type": "code",
   "execution_count": 23,
   "id": "74750d00",
   "metadata": {},
   "outputs": [],
   "source": [
    "scaled_train_dir = \"B:\\\\CV Drone Detection\\\\scaled\\\\train\"\n",
    "scaled_test_dir = \"B:\\\\CV Drone Detection\\\\scaled\\\\test\"\n",
    "scaled_valid_dir = \"B:\\\\CV Drone Detection\\\\scaled\\\\valid\"\n",
    "processed = scaler(DIR_TRAIN, scaled_train_dir, lovely_dime)\n",
    "processed = scaler(DIR_TEST, scaled_test_dir, lovely_dime)\n",
    "processed = scaler(DIR_VALID, scaled_valid_dir, lovely_dime)"
   ]
  },
  {
   "cell_type": "code",
   "execution_count": 25,
   "id": "ca598734",
   "metadata": {},
   "outputs": [
    {
     "name": "stdout",
     "output_type": "stream",
     "text": [
      "Train samples: 8740\n",
      "Most common resulution:(640, 360) samples: 8740\n",
      "Test samples: 339\n",
      "Most common resulution:(640, 360) samples: 339\n",
      "Validation samples: 721\n",
      "Most common resulution:(640, 360) samples: 721\n"
     ]
    }
   ],
   "source": [
    "imgs_size, img_res = lensize_img(scaled_train_dir)\n",
    "print(f\"Train samples: {imgs_size}\")\n",
    "print(f\"Most common resulution:{(list(img_res.keys())[list(img_res.values()).index(sorted(list(img_res.values()))[-1])])} samples: {sorted(list(img_res.values()))[-1]}\")\n",
    "imgs_size, img_res = lensize_img(scaled_test_dir)\n",
    "print(f\"Test samples: {imgs_size}\")\n",
    "print(f\"Most common resulution:{(list(img_res.keys())[list(img_res.values()).index(sorted(list(img_res.values()))[-1])])} samples: {sorted(list(img_res.values()))[-1]}\")\n",
    "imgs_size, img_res = lensize_img(scaled_valid_dir)\n",
    "print(f\"Validation samples: {imgs_size}\")\n",
    "print(f\"Most common resulution:{(list(img_res.keys())[list(img_res.values()).index(sorted(list(img_res.values()))[-1])])} samples: {sorted(list(img_res.values()))[-1]}\")"
   ]
  }
 ],
 "metadata": {
  "kernelspec": {
   "display_name": ".venv (3.13.0)",
   "language": "python",
   "name": "python3"
  },
  "language_info": {
   "codemirror_mode": {
    "name": "ipython",
    "version": 3
   },
   "file_extension": ".py",
   "mimetype": "text/x-python",
   "name": "python",
   "nbconvert_exporter": "python",
   "pygments_lexer": "ipython3",
   "version": "3.13.0"
  }
 },
 "nbformat": 4,
 "nbformat_minor": 5
}
