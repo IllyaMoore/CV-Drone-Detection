{
 "cells": [
  {
   "cell_type": "code",
   "execution_count": 90,
   "id": "b50cca6d",
   "metadata": {},
   "outputs": [],
   "source": [
    "import torch\n",
    "import torch.nn as nn\n",
    "import torch.optim as optim\n",
    "import torchvision\n",
    "import torchvision.transforms as transforms\n",
    "from PIL import Image\n",
    "import torch.nn.functional as F\n",
    "from torch.utils.data import DataLoader"
   ]
  },
  {
   "cell_type": "code",
   "execution_count": 91,
   "id": "8ebb5b2f",
   "metadata": {},
   "outputs": [],
   "source": [
    "PATH_TRAIN = \"B:\\\\CV Drone Detection\\\\scaled\\\\train\"\n",
    "PATH_TEST = \"B:\\\\CV Drone Detection\\\\scaled\\\\test\"\n",
    "PATH_VALID = \"B:\\\\CV Drone Detection\\\\scaled\\\\valid\""
   ]
  },
  {
   "cell_type": "code",
   "execution_count": 104,
   "id": "b05cd91f",
   "metadata": {},
   "outputs": [
    {
     "name": "stdout",
     "output_type": "stream",
     "text": [
      "Classes: ['drone', 'notAdrone']\n"
     ]
    }
   ],
   "source": [
    "\n",
    "\n",
    "transform = transforms.Compose([\n",
    "    transforms.RandomResizedCrop(224, scale=(0.8, 1.0)),   # різні масштаби об’єкта\n",
    "    transforms.RandomHorizontalFlip(),                     # віддзеркалення\n",
    "    transforms.RandomVerticalFlip(),                       # якщо дрони можуть бути в різних положеннях\n",
    "    transforms.ColorJitter(brightness=0.3, contrast=0.3, saturation=0.3, hue=0.1),  # міняє колір\n",
    "    transforms.RandomRotation(20),                         # трохи повертає\n",
    "    transforms.RandomAffine(degrees=0, translate=(0.1,0.1)), # зсув\n",
    "    transforms.RandomPerspective(distortion_scale=0.2, p=0.5), # деформація\n",
    "    transforms.Resize((128, 128)),\n",
    "    transforms.ToTensor(),\n",
    "    transforms.RandomErasing(p=0.3, scale=(0.02, 0.2)),\n",
    "    transforms.Normalize((0.5, 0.5, 0.5),\n",
    "                         (0.5, 0.5, 0.5))\n",
    "])\n",
    "\n",
    "\n",
    "trainset = torchvision.datasets.ImageFolder(root=PATH_TRAIN, transform=transform)\n",
    "trainloader = DataLoader(trainset, batch_size=4, shuffle=True, num_workers=2)\n",
    "\n",
    "testset = torchvision.datasets.ImageFolder(root=PATH_TEST, transform=transform)\n",
    "testloader = DataLoader(testset, batch_size=4, shuffle=False, num_workers=2)\n",
    "\n",
    "classes = trainset.classes\n",
    "print(\"Classes:\", classes)\n"
   ]
  },
  {
   "cell_type": "code",
   "execution_count": 105,
   "id": "ab9f654f",
   "metadata": {},
   "outputs": [],
   "source": [
    "import torch.nn as nn\n",
    "\n",
    "class Net(nn.Module):\n",
    "    def __init__(self):\n",
    "        super(Net, self).__init__()\n",
    "        self.conv1 = nn.Conv2d(3, 6, 5)\n",
    "        self.pool = nn.MaxPool2d(2, 2)\n",
    "        self.conv2 = nn.Conv2d(6, 16, 5)\n",
    "        self.fc1 = nn.Linear(16 * 29 * 29, 120)\n",
    "        self.fc2 = nn.Linear(120, 84)\n",
    "        self.fc3 = nn.Linear(84, 10)\n",
    "\n",
    "    def forward(self, x):\n",
    "        x = self.pool(nn.functional.relu(self.conv1(x)))\n",
    "        x = self.pool(nn.functional.relu(self.conv2(x)))\n",
    "        x = x.view(-1, 16 * 29 * 29)\n",
    "        x = nn.functional.relu(self.fc1(x))\n",
    "        x = nn.functional.relu(self.fc2(x))\n",
    "        x = self.fc3(x)\n",
    "        return x\n",
    "\n",
    "\n",
    "net = Net()"
   ]
  },
  {
   "cell_type": "code",
   "execution_count": 106,
   "id": "8b9f430b",
   "metadata": {},
   "outputs": [],
   "source": [
    "criterion = nn.CrossEntropyLoss()\n",
    "optimizer = optim.SGD(net.parameters(), lr=0.001, momentum=0.9)"
   ]
  },
  {
   "cell_type": "code",
   "execution_count": 107,
   "id": "354bfcea",
   "metadata": {},
   "outputs": [
    {
     "name": "stdout",
     "output_type": "stream",
     "text": [
      "[1,  2000] loss: 0.579\n",
      "[2,  2000] loss: 0.199\n",
      "Finished Training\n"
     ]
    }
   ],
   "source": [
    "for epoch in range(2):  \n",
    "\n",
    "    running_loss = 0.0\n",
    "    for i, data in enumerate(trainloader, 0):\n",
    "        inputs, labels = data\n",
    "\n",
    "        optimizer.zero_grad()\n",
    "\n",
    "        outputs = net(inputs)\n",
    "        loss = criterion(outputs, labels)\n",
    "        loss.backward()\n",
    "        optimizer.step()\n",
    "\n",
    "        running_loss += loss.item()\n",
    "        if i % 2000 == 1999: \n",
    "            print('[%d, %5d] loss: %.3f' %\n",
    "                  (epoch + 1, i + 1, running_loss / 2000))\n",
    "            running_loss = 0.0\n",
    "\n",
    "print('Finished Training')"
   ]
  },
  {
   "cell_type": "code",
   "execution_count": 108,
   "id": "918a2b0e",
   "metadata": {},
   "outputs": [
    {
     "name": "stdout",
     "output_type": "stream",
     "text": [
      "Accuracy of the network on the  test images: 94 % 931 989\n"
     ]
    }
   ],
   "source": [
    "correct = 0\n",
    "total = 0\n",
    "\n",
    "with torch.no_grad():\n",
    "    for data in testloader:\n",
    "        images, labels = data\n",
    "        outputs = net(images)\n",
    "        _, predicted = torch.max(outputs.data, 1)\n",
    "        total += labels.size(0)\n",
    "        correct += (predicted == labels).sum().item()\n",
    "\n",
    "print('Accuracy of the network on the  test images: %d %%' % (\n",
    "    100 * correct / total), correct, total)"
   ]
  },
  {
   "cell_type": "code",
   "execution_count": null,
   "id": "c496ad85",
   "metadata": {},
   "outputs": [
    {
     "name": "stdout",
     "output_type": "stream",
     "text": [
      "PREDICTION: drone\n",
      "PREDICTION: drone\n",
      "PREDICTION: drone\n"
     ]
    }
   ],
   "source": [
    "transform = transforms.Compose([\n",
    "    transforms.Resize((128, 128)),\n",
    "    transforms.ToTensor()\n",
    "])\n",
    "test_imgs = [r\"B:\\CV Drone Detection\\tasting_samples\\drone\\agenda-luxcrea-dronepexels-2980564356.jpg\", \n",
    "             r\"B:\\CV Drone Detection\\tasting_samples\\drone\\agenda-luxcrea-dronepexels-2980564356.jpg\",\n",
    "             r\"B:\\CV Drone Detection\\tasting_samples\\notAdrone\\amh1tqh06166z417-2033267517.jpg\"]\n",
    "\n",
    "def model_testing(test_imgs = test_imgs):\n",
    "    for i in range(len(test_imgs)):\n",
    "        img = transform(Image.open(test_imgs[i])).unsqueeze(0)\n",
    "        with torch.no_grad():\n",
    "            outputs = net(img)\n",
    "            _, predicted = torch.max(outputs.data, 1)\n",
    "        print(\"PREDICTION:\", classes[predicted.item()])\n",
    "\n",
    "model_testing()"
   ]
  },
  {
   "cell_type": "code",
   "execution_count": null,
   "id": "ffc9408b",
   "metadata": {},
   "outputs": [],
   "source": []
  }
 ],
 "metadata": {
  "kernelspec": {
   "display_name": ".venv (3.13.0)",
   "language": "python",
   "name": "python3"
  },
  "language_info": {
   "codemirror_mode": {
    "name": "ipython",
    "version": 3
   },
   "file_extension": ".py",
   "mimetype": "text/x-python",
   "name": "python",
   "nbconvert_exporter": "python",
   "pygments_lexer": "ipython3",
   "version": "3.13.0"
  }
 },
 "nbformat": 4,
 "nbformat_minor": 5
}
